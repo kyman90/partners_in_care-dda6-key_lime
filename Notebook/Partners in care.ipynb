{
 "cells": [
  {
   "cell_type": "code",
   "execution_count": null,
   "id": "8487c6a7",
   "metadata": {},
   "outputs": [],
   "source": [
    "import pandas as pd\n",
    "import matplotlib.pyplot as plt\n",
    "import seaborn as sns\n",
    "import re\n",
    "%matplotlib inline\n",
    "import sqlite3 as sql\n",
    "import geopandas as gpd\n",
    "import folium\n",
    "import folium.plugins\n",
    "import numpy as np"
   ]
  },
  {
   "cell_type": "code",
   "execution_count": null,
   "id": "ad85d3cf",
   "metadata": {},
   "outputs": [],
   "source": [
    "calls_df = pd.read_csv(\"../Data/calls_clean.csv\")"
   ]
  },
  {
   "cell_type": "code",
   "execution_count": null,
   "id": "87dba5c4",
   "metadata": {},
   "outputs": [],
   "source": [
    "calls_df.head()"
   ]
  },
  {
   "cell_type": "code",
   "execution_count": null,
   "id": "782c20ac",
   "metadata": {},
   "outputs": [],
   "source": [
    "chart_df =pd.read_csv(\"../Data/charts_clean.csv\")"
   ]
  },
  {
   "cell_type": "code",
   "execution_count": null,
   "id": "f78f039f",
   "metadata": {
    "scrolled": true
   },
   "outputs": [],
   "source": [
    "chart_df.head()"
   ]
  },
  {
   "cell_type": "code",
   "execution_count": null,
   "id": "0f466d3b",
   "metadata": {},
   "outputs": [],
   "source": [
    "geocode_df = pd.read_csv(\"../Data/geocodeclean.csv\")"
   ]
  },
  {
   "cell_type": "code",
   "execution_count": null,
   "id": "82328347",
   "metadata": {
    "scrolled": false
   },
   "outputs": [],
   "source": [
    "geocode_df"
   ]
  },
  {
   "cell_type": "code",
   "execution_count": null,
   "id": "2ee0c3de",
   "metadata": {},
   "outputs": [],
   "source": [
    "import os\n",
    "import folium\n",
    "import geopandas as gpd\n"
   ]
  },
  {
   "cell_type": "code",
   "execution_count": null,
   "id": "f7a7edef",
   "metadata": {},
   "outputs": [],
   "source": [
    "geocode_df = pd.read_csv(\"../Data/geocodeclean.csv\")"
   ]
  },
  {
   "cell_type": "code",
   "execution_count": null,
   "id": "a10a31c9",
   "metadata": {
    "scrolled": true
   },
   "outputs": [],
   "source": [
    "geocode_df"
   ]
  },
  {
   "cell_type": "markdown",
   "id": "f7cf90d5",
   "metadata": {
    "scrolled": true
   },
   "source": [
    "geocalls_df = calls_df.merge(geocode_df, how = 'outer', left_on = 'Address', right_on = 'address')\n",
    "geocalls_df.head(30)"
   ]
  },
  {
   "cell_type": "code",
   "execution_count": null,
   "id": "ecd2171f",
   "metadata": {},
   "outputs": [],
   "source": [
    "chart_df['Priority_3']= chart_df['Priority_3']+ chart_df['Priority_3H']+ chart_df['Priority_3M']+ chart_df['Priority_3Q']"
   ]
  },
  {
   "cell_type": "code",
   "execution_count": null,
   "id": "4ab73c1a",
   "metadata": {
    "scrolled": true
   },
   "outputs": [],
   "source": [
    "chart_df['Priority_3'].sum()"
   ]
  },
  {
   "cell_type": "code",
   "execution_count": null,
   "id": "adb30954",
   "metadata": {},
   "outputs": [],
   "source": [
    "chart_df['Priority_2'] = chart_df['Priority_2'] + chart_df['Priority_2L'] + chart_df['Priority_2M'] + chart_df['Priority_2N'] + chart_df['Priority_2T'] + chart_df['Priority_2R']"
   ]
  },
  {
   "cell_type": "code",
   "execution_count": null,
   "id": "9d2eadaf",
   "metadata": {},
   "outputs": [],
   "source": [
    "chart_df"
   ]
  },
  {
   "cell_type": "code",
   "execution_count": null,
   "id": "030ee3d9",
   "metadata": {},
   "outputs": [],
   "source": [
    "chart_df['Priority_2'].sum()"
   ]
  },
  {
   "cell_type": "code",
   "execution_count": null,
   "id": "bc8ef5d1",
   "metadata": {},
   "outputs": [],
   "source": [
    "#Droping Priority 2l,2m,2n,2t,2r,3h,3m,3q"
   ]
  },
  {
   "cell_type": "code",
   "execution_count": null,
   "id": "b1e4c459",
   "metadata": {},
   "outputs": [],
   "source": [
    "chart_df = chart_df.drop(columns = ['Priority_2L', 'Priority_2M', 'Priority_2N', 'Priority_2T', 'Priority_2R', 'Priority_3H', 'Priority_3M', 'Priority_3Q'])"
   ]
  },
  {
   "cell_type": "code",
   "execution_count": null,
   "id": "b1aa13dd",
   "metadata": {},
   "outputs": [],
   "source": [
    "chart_df"
   ]
  },
  {
   "cell_type": "code",
   "execution_count": null,
   "id": "712f9f76",
   "metadata": {},
   "outputs": [],
   "source": [
    "chart_df['Priority_3'].sum()"
   ]
  },
  {
   "cell_type": "code",
   "execution_count": null,
   "id": "09c61ea2",
   "metadata": {},
   "outputs": [],
   "source": []
  },
  {
   "cell_type": "markdown",
   "id": "86f4de20",
   "metadata": {},
   "source": [
    "#Creating a DataFrame of the number of calls per Precinct"
   ]
  },
  {
   "cell_type": "code",
   "execution_count": null,
   "id": "6b28bd9a",
   "metadata": {
    "scrolled": false
   },
   "outputs": [],
   "source": [
    "chart_count_df = chart_df.groupby('Precinct')['Total Incidents'].sum().to_frame()\n",
    "chart_count_df = chart_count_df.sort_values('Total Incidents',ascending = False)\n",
    "chart_count_df"
   ]
  },
  {
   "cell_type": "code",
   "execution_count": null,
   "id": "e8d01422",
   "metadata": {},
   "outputs": [],
   "source": [
    "#geocalls_df = geocalls_df.loc[census_geo_df.COUNTYFP == '037']\n",
    "#census_geo_df1"
   ]
  },
  {
   "cell_type": "code",
   "execution_count": null,
   "id": "9770f816",
   "metadata": {},
   "outputs": [],
   "source": [
    "chart_count_df = {'Precinct': ['H','S','C','MT','N','M','E','W','CW','PWC','CMD1','CMD2'],\n",
    "        'Total Incidents': [7957,7953,6870,5973,5515,4867,4408,4258,118,4,2,1]}\n",
    "chart_count_df = pd.DataFrame(chart_count_df,columns=['Precinct','Total Incidents'])\n",
    "plt.figure(figsize=(20,10))\n",
    "New_Colors = ['green','blue','purple','brown','teal','orange','pink','red','black','turquoise','yellow','black']\n",
    "plt.bar(chart_count_df['Precinct'], chart_count_df['Total Incidents'], color=New_Colors)\n",
    "plt.title('Number of Calls by Precinct', fontsize=30)\n",
    "plt.xlabel('Precinct', fontsize=30)\n",
    "plt.ylabel('Total Incidents', fontsize=30)\n",
    "plt.grid(True)\n",
    "plt.show()"
   ]
  },
  {
   "cell_type": "markdown",
   "id": "52a725db",
   "metadata": {},
   "source": [
    "#selecting Total calls and Priority 1-3"
   ]
  },
  {
   "cell_type": "code",
   "execution_count": null,
   "id": "c8986bd5",
   "metadata": {
    "scrolled": true
   },
   "outputs": [],
   "source": [
    "chart_Priority_df = chart_df.groupby('Precinct')['Total Incidents','Priority_1','Priority_2','Priority_3'].sum()\n",
    "chart_Priority_df = chart_Priority_df.sort_values('Total Incidents',ascending = False)\n",
    "chart_Priority_df"
   ]
  },
  {
   "cell_type": "raw",
   "id": "fce52e88",
   "metadata": {},
   "source": [
    "# chart fot total incident by Precinct."
   ]
  },
  {
   "cell_type": "code",
   "execution_count": null,
   "id": "3976ae3f",
   "metadata": {
    "scrolled": false
   },
   "outputs": [],
   "source": [
    "# chart fot total incident by Precinct.\n",
    "fields = ['Priority_1','Priority_2','Priority_3']\n",
    "colors = ['#1D2F6F', '#8390FA', '#6EAF46', '#FAC748']\n",
    "labels = ['Priority_1','Priority_2','Priority_3']\n",
    "# figure and axis\n",
    "fig, ax = plt.subplots(1, figsize=(12, 10))\n",
    "# plot bars\n",
    "left = len(chart_Priority_df) * [0]\n",
    "for idx, name in enumerate(fields):\n",
    "    plt.barh(chart_Priority_df.index, chart_Priority_df[name], left = left, color=colors[idx])\n",
    "    left = left + chart_Priority_df[name]\n",
    "# title, legend, labels\n",
    "plt.title('Calls by Priority and Precinct \\n', loc='left')\n",
    "plt.legend(labels, bbox_to_anchor=([0.55, 1, 0, 0]), ncol=4, frameon=False)\n",
    "plt.xlabel('Number of calls')\n",
    "# remove spines\n",
    "ax.spines['right'].set_visible(False)\n",
    "ax.spines['left'].set_visible(False)\n",
    "ax.spines['top'].set_visible(False)\n",
    "ax.spines['bottom'].set_visible(False)\n",
    "# adjust limits and draw grid lines\n",
    "plt.ylim(-0.5, ax.get_yticks()[-1] + 0.5)\n",
    "ax.set_axisbelow(True)\n",
    "ax.xaxis.grid(color='gray', linestyle='dashed')\n",
    "plt.show()"
   ]
  },
  {
   "cell_type": "code",
   "execution_count": null,
   "id": "e88ebdf2",
   "metadata": {},
   "outputs": [],
   "source": [
    "# Execute tells the cursor to run the query provided\n",
    "conn = sql.connect('../Data/census (1).sqlite')\n",
    "cur = conn.cursor()"
   ]
  },
  {
   "cell_type": "markdown",
   "id": "1dfb3085",
   "metadata": {},
   "source": [
    "#Querying the Census Table"
   ]
  },
  {
   "cell_type": "code",
   "execution_count": null,
   "id": "49905baf",
   "metadata": {},
   "outputs": [],
   "source": [
    "cur.execute(\"SELECT name FROM sqlite_master WHERE type='table' ORDER BY name;\")\n",
    "pop_age_sex = (cur.fetchall())"
   ]
  },
  {
   "cell_type": "code",
   "execution_count": null,
   "id": "ff704e3c",
   "metadata": {},
   "outputs": [],
   "source": [
    "print(pop_age_sex)"
   ]
  },
  {
   "cell_type": "markdown",
   "id": "ed5cc176",
   "metadata": {},
   "source": [
    "#selecting Table **B01001**: Population by Age and Sex\n"
   ]
  },
  {
   "cell_type": "code",
   "execution_count": null,
   "id": "00e1ce20",
   "metadata": {},
   "outputs": [],
   "source": [
    "cur.execute(\"SELECT * FROM B01001;\")\n",
    "pop_age_sex =(cur.fetchall())\n",
    "type('B01001',)         "
   ]
  },
  {
   "cell_type": "code",
   "execution_count": null,
   "id": "5879105b",
   "metadata": {
    "scrolled": true
   },
   "outputs": [],
   "source": [
    "pop_age_sex"
   ]
  },
  {
   "cell_type": "markdown",
   "id": "b1419120",
   "metadata": {},
   "source": [
    "#Using Pandas to place results into a DataFrame"
   ]
  },
  {
   "cell_type": "code",
   "execution_count": null,
   "id": "3748c550",
   "metadata": {},
   "outputs": [],
   "source": [
    "pop_age_sex_df = pd.read_sql(\"SELECT * FROM B01001;\", conn)"
   ]
  },
  {
   "cell_type": "code",
   "execution_count": null,
   "id": "00045639",
   "metadata": {
    "scrolled": true
   },
   "outputs": [],
   "source": [
    "pop_age_sex_df"
   ]
  },
  {
   "cell_type": "raw",
   "id": "505b180c",
   "metadata": {},
   "source": [
    "# selecting table **B03002**: Population by Race and Ethnicity# selecting table "
   ]
  },
  {
   "cell_type": "code",
   "execution_count": null,
   "id": "319fd263",
   "metadata": {
    "scrolled": false
   },
   "outputs": [],
   "source": [
    "race_eth_df = pd.read_sql(\"SELECT * FROM B03002;\", conn)"
   ]
  },
  {
   "cell_type": "code",
   "execution_count": null,
   "id": "58941738",
   "metadata": {
    "scrolled": true
   },
   "outputs": [],
   "source": [
    "race_eth_df"
   ]
  },
  {
   "cell_type": "raw",
   "id": "de40e0e1",
   "metadata": {},
   "source": [
    "#importing census data "
   ]
  },
  {
   "cell_type": "code",
   "execution_count": null,
   "id": "e3aaa855",
   "metadata": {
    "scrolled": true
   },
   "outputs": [],
   "source": [
    "geocode_dav_df= gpd.read_file('../Data/census_tract/tl_2021_47_tract.shp')\n",
    "geocode_dav_df"
   ]
  },
  {
   "cell_type": "code",
   "execution_count": null,
   "id": "38980f3e",
   "metadata": {
    "scrolled": true
   },
   "outputs": [],
   "source": [
    "geocode_dav_df.columns = geocode_dav_df.columns.str.replace('GEOID', 'GEO_ID')\n",
    "geocode_dav_df"
   ]
  },
  {
   "cell_type": "raw",
   "id": "ef851abd",
   "metadata": {},
   "source": [
    "#selecting davison county '037'"
   ]
  },
  {
   "cell_type": "code",
   "execution_count": null,
   "id": "10705839",
   "metadata": {
    "scrolled": true
   },
   "outputs": [],
   "source": [
    "geocode_dav1_df= geocode_dav_df.loc[geocode_dav_df.COUNTYFP == '037']\n",
    "geocode_dav1_df"
   ]
  },
  {
   "cell_type": "code",
   "execution_count": null,
   "id": "f9aa219a",
   "metadata": {},
   "outputs": [],
   "source": [
    "ax = geocode_dav1_df.plot(edgecolor = 'black',figsize = (10,10),color = 'white') \n",
    "geocode_dav1_df.plot(ax = ax ,edgecolor = 'yellow', alpha = 0.7)\n",
    "geocode_df = pd.read_csv(\"../Data/geocodeclean.csv\")"
   ]
  },
  {
   "cell_type": "code",
   "execution_count": null,
   "id": "2fb4a413",
   "metadata": {},
   "outputs": [],
   "source": [
    " #cen_df = census_geo_dav1_df.loc['COUNTYFP'== '037']            "
   ]
  },
  {
   "cell_type": "code",
   "execution_count": null,
   "id": "e42edd29",
   "metadata": {
    "scrolled": true
   },
   "outputs": [],
   "source": [
    "race_geo_df = race_eth_df.merge(geocode_dav_df,on ='GEO_ID', how = 'left')\n",
    "race_geo_df.tail()"
   ]
  },
  {
   "cell_type": "code",
   "execution_count": null,
   "id": "2bf0215d",
   "metadata": {},
   "outputs": [],
   "source": [
    "#race_geo_df[['GEO_ID','NAME_x','tact','county','state','variable','value','description']]\n",
    "nash_df =race_geo_df[race_geo_df.columns[1:8]]\n",
    "nash_df"
   ]
  },
  {
   "cell_type": "code",
   "execution_count": null,
   "id": "b1aa501c",
   "metadata": {
    "scrolled": false
   },
   "outputs": [],
   "source": [
    "#creating a dataframe for top ten pop\n",
    "race_geo_df[['variable','value']].groupby('variable').sum().reset_index().nlargest(10,'value')"
   ]
  },
  {
   "cell_type": "code",
   "execution_count": null,
   "id": "955c7ea9",
   "metadata": {
    "scrolled": true
   },
   "outputs": [],
   "source": [
    "dav = {'variable': ['Total', 'Not Hispanic', 'White alone', 'African American alone','Hispanic or Latino','H L !!White alone','Asian alone','Two or more races','Two races','Some other race alone'],\n",
    "        'value': ['687488', '617169', '386383', '185114','70319','53916','24813','16539','15748','13550']} \n",
    "dav_df = pd.DataFrame.from_dict(dav)\n",
    "dav_df"
   ]
  },
  {
   "cell_type": "code",
   "execution_count": null,
   "id": "997f8899",
   "metadata": {},
   "outputs": [],
   "source": [
    "#changing object to int\n",
    "dav_df[\"value\"] = pd.to_numeric(dav_df[\"value\"], errors=\"coerce\").fillna(0).astype(\"int64\")"
   ]
  },
  {
   "cell_type": "code",
   "execution_count": null,
   "id": "bc66c196",
   "metadata": {},
   "outputs": [],
   "source": [
    "dav_df.dtypes"
   ]
  },
  {
   "cell_type": "code",
   "execution_count": null,
   "id": "9562ff50",
   "metadata": {},
   "outputs": [],
   "source": [
    "dav_df.plot(kind='bar', x='variable', y='value')"
   ]
  },
  {
   "cell_type": "code",
   "execution_count": null,
   "id": "aae04c50",
   "metadata": {},
   "outputs": [],
   "source": []
  }
 ],
 "metadata": {
  "kernelspec": {
   "display_name": "Python 3 (ipykernel)",
   "language": "python",
   "name": "python3"
  },
  "language_info": {
   "codemirror_mode": {
    "name": "ipython",
    "version": 3
   },
   "file_extension": ".py",
   "mimetype": "text/x-python",
   "name": "python",
   "nbconvert_exporter": "python",
   "pygments_lexer": "ipython3",
   "version": "3.8.5"
  }
 },
 "nbformat": 4,
 "nbformat_minor": 5
}
