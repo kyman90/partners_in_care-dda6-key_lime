{
 "cells": [
  {
   "cell_type": "code",
   "execution_count": null,
   "id": "79e4e99d",
   "metadata": {},
   "outputs": [],
   "source": [
    "import pandas as pd\n",
    "import numpy as np\n",
    "import matplotlib.pyplot as plt\n",
    "import seaborn as sns\n",
    "\n",
    "%matplotlib inline"
   ]
  },
  {
   "cell_type": "markdown",
   "id": "6b3b11a3",
   "metadata": {},
   "source": [
    "## Imported CSV files to dataframes"
   ]
  },
  {
   "cell_type": "code",
   "execution_count": null,
   "id": "d0e6732d",
   "metadata": {},
   "outputs": [],
   "source": [
    "incident_response = pd.read_csv('../Data/charts_clean.csv')\n",
    "incident_response.head()"
   ]
  },
  {
   "cell_type": "code",
   "execution_count": null,
   "id": "a987f7c7",
   "metadata": {},
   "outputs": [],
   "source": [
    "calls_address = pd.read_csv('../Data/calls_clean.csv')\n",
    "calls_address.head()"
   ]
  },
  {
   "cell_type": "code",
   "execution_count": null,
   "id": "738e30c3",
   "metadata": {},
   "outputs": [],
   "source": [
    "geo_clean = pd.read_csv('../Data/geocodeclean.csv')\n",
    "geo_clean.head()"
   ]
  },
  {
   "cell_type": "markdown",
   "id": "c3f7c9d3",
   "metadata": {},
   "source": [
    "## Merged geo data to calls/address"
   ]
  },
  {
   "cell_type": "code",
   "execution_count": null,
   "id": "2167fabf",
   "metadata": {},
   "outputs": [],
   "source": [
    "geo_calls_merged = pd.merge(geo_clean, calls_address, left_on = 'address', right_on = 'Address')\n",
    "geo_calls_merged.drop(['address'], axis=1, inplace = True)\n",
    "geo_calls_merged.head()"
   ]
  },
  {
   "cell_type": "markdown",
   "id": "c9d9f5bb",
   "metadata": {},
   "source": [
    "## Consolidated priority calls and dropped excess priority columns"
   ]
  },
  {
   "cell_type": "code",
   "execution_count": null,
   "id": "6c8bcc06",
   "metadata": {},
   "outputs": [],
   "source": [
    "incident_response['Priority_2'] = incident_response['Priority_2'] + incident_response['Priority_2L'] + incident_response['Priority_2M'] + incident_response['Priority_2N'] + incident_response['Priority_2T'] + incident_response['Priority_2R']\n",
    "incident_response['Priority_3'] = incident_response['Priority_3'] + incident_response['Priority_3H'] + incident_response['Priority_3M'] + incident_response['Priority_3Q']\n",
    "incident_response.drop(['Priority_2L', 'Priority_2M', 'Priority_2N', 'Priority_2T', 'Priority_2R', 'Priority_3H', 'Priority_3M', 'Priority_3Q'], axis=1, inplace = True)\n",
    "incident_response.head()"
   ]
  },
  {
   "cell_type": "code",
   "execution_count": null,
   "id": "a9f41f79",
   "metadata": {},
   "outputs": [],
   "source": []
  }
 ],
 "metadata": {
  "kernelspec": {
   "display_name": "Python 3 (ipykernel)",
   "language": "python",
   "name": "python3"
  },
  "language_info": {
   "codemirror_mode": {
    "name": "ipython",
    "version": 3
   },
   "file_extension": ".py",
   "mimetype": "text/x-python",
   "name": "python",
   "nbconvert_exporter": "python",
   "pygments_lexer": "ipython3",
   "version": "3.9.7"
  }
 },
 "nbformat": 4,
 "nbformat_minor": 5
}
