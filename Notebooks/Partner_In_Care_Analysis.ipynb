{
 "cells": [
  {
   "cell_type": "code",
   "execution_count": null,
   "id": "79e4e99d",
   "metadata": {},
   "outputs": [],
   "source": [
    "import pandas as pd\n",
    "import numpy as np\n",
    "import matplotlib.pyplot as plt\n",
    "#import seaborn as sns\n",
    "import sqlite3 as sql\n",
    "import geopandas as gpd\n",
    "import folium\n",
    "from shapely.geometry import point\n",
    "from folium.plugins import MarkerCluster\n",
    "\n",
    "%matplotlib inline"
   ]
  },
  {
   "cell_type": "markdown",
   "id": "6b3b11a3",
   "metadata": {},
   "source": [
    "## Imported CSV files to dataframes"
   ]
  },
  {
   "cell_type": "code",
   "execution_count": null,
   "id": "d0e6732d",
   "metadata": {},
   "outputs": [],
   "source": [
    "incident_response = pd.read_csv('../Data/charts_clean.csv')\n",
    "incident_response.head()"
   ]
  },
  {
   "cell_type": "code",
   "execution_count": null,
   "id": "a987f7c7",
   "metadata": {},
   "outputs": [],
   "source": [
    "calls_address = pd.read_csv('../Data/calls_clean.csv')\n",
    "calls_address.head()"
   ]
  },
  {
   "cell_type": "code",
   "execution_count": null,
   "id": "738e30c3",
   "metadata": {},
   "outputs": [],
   "source": [
    "geo_clean = pd.read_csv('../Data/geocodeclean.csv')\n",
    "geo_clean.head()"
   ]
  },
  {
   "cell_type": "markdown",
   "id": "c3f7c9d3",
   "metadata": {},
   "source": [
    "## Merged geo data to calls/address"
   ]
  },
  {
   "cell_type": "code",
   "execution_count": null,
   "id": "2167fabf",
   "metadata": {},
   "outputs": [],
   "source": [
    "geo_calls_merged = pd.merge(geo_clean, calls_address, left_on = 'address', right_on = 'Address')\n",
    "#geo_calls_merged.drop(['address'], axis=1, inplace = True)\n",
    "geo_calls_merged.info()"
   ]
  },
  {
   "cell_type": "markdown",
   "id": "c9d9f5bb",
   "metadata": {},
   "source": [
    "## Consolidated priority calls and dropped excess priority columns"
   ]
  },
  {
   "cell_type": "code",
   "execution_count": null,
   "id": "6c8bcc06",
   "metadata": {},
   "outputs": [],
   "source": [
    "incident_response['Priority_2'] = incident_response['Priority_2'] + incident_response['Priority_2L'] + incident_response['Priority_2M'] + incident_response['Priority_2N'] + incident_response['Priority_2T'] + incident_response['Priority_2R']\n",
    "incident_response['Priority_3'] = incident_response['Priority_3'] + incident_response['Priority_3H'] + incident_response['Priority_3M'] + incident_response['Priority_3Q']\n",
    "incident_response.drop(['Priority_2L', 'Priority_2M', 'Priority_2N', 'Priority_2T', 'Priority_2R', 'Priority_3H', 'Priority_3M', 'Priority_3Q'], axis=1, inplace = True)\n",
    "incident_response.head()"
   ]
  },
  {
   "cell_type": "code",
   "execution_count": null,
   "id": "abe2e3f7",
   "metadata": {},
   "outputs": [],
   "source": [
    "incident_response.info()"
   ]
  },
  {
   "cell_type": "code",
   "execution_count": null,
   "id": "595d1eef",
   "metadata": {},
   "outputs": [],
   "source": [
    "calls_per_precinct = incident_response.groupby('Precinct')['Total Incidents'].sum().to_frame()\n",
    "calls_per_precinct = calls_per_precinct.sort_values('Total Incidents', ascending = False)\n",
    "calls_per_precinct"
   ]
  },
  {
   "cell_type": "code",
   "execution_count": null,
   "id": "a9f41f79",
   "metadata": {},
   "outputs": [],
   "source": [
    "calls_per_precinct['Total Incidents'].plot(kind = 'bar',\n",
    "                                    figsize = (17,8), color =['cornflowerblue', 'coral', 'pink'])"
   ]
  },
  {
   "cell_type": "code",
   "execution_count": null,
   "id": "f1163c58",
   "metadata": {},
   "outputs": [],
   "source": [
    "fig, ax = plt.subplots(figsize=(10,6))\n",
    "incident_type_precinct = pd.crosstab(geo_calls_merged.Precinct, geo_calls_merged['Incident Type'])\n",
    "incident_type_precinct.plot(kind='bar', stacked=True, ax=ax, color = ['#1b9e77', '#a9f971', '#fdaa48','#6890F0','#A890F0'])\n",
    "plt.legend(bbox_to_anchor = (1, 1.015), loc = 'upper left')\n",
    "plt.title('Incident Type Per Precinct',\n",
    "         fontsize = 14,\n",
    "         fontweight = 'bold')\n",
    "plt.show()"
   ]
  },
  {
   "cell_type": "code",
   "execution_count": null,
   "id": "8843a622",
   "metadata": {},
   "outputs": [],
   "source": [
    "precinct_priority = incident_response.groupby('Precinct')['Priority_1', 'Priority_2', 'Priority_3'].sum()\n",
    "precinct_priority "
   ]
  },
  {
   "cell_type": "code",
   "execution_count": null,
   "id": "829e251b",
   "metadata": {},
   "outputs": [],
   "source": [
    "precinct_priority.info()"
   ]
  },
  {
   "cell_type": "code",
   "execution_count": null,
   "id": "b0570bbf",
   "metadata": {},
   "outputs": [],
   "source": [
    "fig, ax = plt.subplots(figsize=(10,6))\n",
    "precinct_priority.plot(kind='bar', stacked=True, ax=ax, color = ['#1b9e77', '#a9f971', '#fdaa48'])\n",
    "plt.legend(bbox_to_anchor = (1, 1.015), loc = 'upper left')\n",
    "plt.title('Priority Calls Per Precinct',\n",
    "         fontsize = 14,\n",
    "         fontweight = 'bold')\n",
    "plt.show()"
   ]
  },
  {
   "cell_type": "code",
   "execution_count": null,
   "id": "9d64d67d",
   "metadata": {},
   "outputs": [],
   "source": [
    "conn = sql.connect('../Data/census.sqlite')\n",
    "cur = conn.cursor()"
   ]
  },
  {
   "cell_type": "code",
   "execution_count": null,
   "id": "8d74ba6b",
   "metadata": {},
   "outputs": [],
   "source": [
    "cur.execute(\"SELECT name FROM sqlite_master WHERE type='table' ORDER BY name;\")"
   ]
  },
  {
   "cell_type": "code",
   "execution_count": null,
   "id": "4dceab40",
   "metadata": {},
   "outputs": [],
   "source": [
    "available_tables = (cur.fetchall())\n",
    "print(available_tables)"
   ]
  },
  {
   "cell_type": "code",
   "execution_count": null,
   "id": "3a060b67",
   "metadata": {},
   "outputs": [],
   "source": [
    "cur.execute('SELECT * FROM B01001 LIMIT 5;')\n",
    "\n",
    "pop_age_sex = (cur.fetchall())"
   ]
  },
  {
   "cell_type": "code",
   "execution_count": null,
   "id": "2984ffe5",
   "metadata": {},
   "outputs": [],
   "source": [
    "type(pop_age_sex)"
   ]
  },
  {
   "cell_type": "code",
   "execution_count": null,
   "id": "4599daeb",
   "metadata": {
    "scrolled": true
   },
   "outputs": [],
   "source": [
    "pop_age_sex = pd.read_sql(\"SELECT * FROM B01001;\", conn)\n",
    "pop_age_sex"
   ]
  },
  {
   "cell_type": "code",
   "execution_count": null,
   "id": "0b5e1ef4",
   "metadata": {},
   "outputs": [],
   "source": [
    "#pop_age_sex.to_excel('sample_test.xlsx')"
   ]
  },
  {
   "cell_type": "code",
   "execution_count": null,
   "id": "c0e8b0c1",
   "metadata": {},
   "outputs": [],
   "source": [
    "#geo_calls_merged.to_excel('crime_data.xlsx')"
   ]
  },
  {
   "cell_type": "code",
   "execution_count": null,
   "id": "b2adb487",
   "metadata": {},
   "outputs": [],
   "source": [
    "cur.execute('SELECT * FROM B03002 LIMIT 5;')\n",
    "\n",
    "table_2 = (cur.fetchall())"
   ]
  },
  {
   "cell_type": "code",
   "execution_count": null,
   "id": "d5e1ad0f",
   "metadata": {},
   "outputs": [],
   "source": [
    "table_2"
   ]
  },
  {
   "cell_type": "code",
   "execution_count": null,
   "id": "84699307",
   "metadata": {},
   "outputs": [],
   "source": [
    "police_precinct_map = gpd.read_file('../Data/Police District.geojson')\n",
    "police_precinct_map"
   ]
  },
  {
   "cell_type": "code",
   "execution_count": null,
   "id": "57f1be8f",
   "metadata": {},
   "outputs": [],
   "source": [
    "census_tract = gpd.read_file('../Data/census_tract/tl_2021_47_tract.shp')\n",
    "census_tract.info()"
   ]
  },
  {
   "cell_type": "code",
   "execution_count": null,
   "id": "4da0c04b",
   "metadata": {},
   "outputs": [],
   "source": [
    "mask_census = census_tract['COUNTYFP'] == '037'\n",
    "census_filtered = census_tract[mask_census]\n",
    "census_filtered"
   ]
  },
  {
   "cell_type": "code",
   "execution_count": null,
   "id": "8a284752",
   "metadata": {},
   "outputs": [],
   "source": [
    "leg_kwds = {'title': 'precinct', 'loc': 'upper left', \n",
    "            'bbox_to_anchor': (1, 1.03), 'ncol': 1}\n",
    "police_precinct_map.plot(column = 'precinct', figsize = (8,8), edgecolor = 'black', cmap = 'Set3', legend = True, legend_kwds = leg_kwds)"
   ]
  },
  {
   "cell_type": "code",
   "execution_count": null,
   "id": "1e4c4b1c",
   "metadata": {},
   "outputs": [],
   "source": [
    "test = police_precinct_map.plot(column = 'precinct', figsize = (8,8), edgecolor = 'black', cmap = 'Set1', legend = True)\n",
    "census_filtered.plot(ax = test, edgecolor = 'black', alpha = 0.7)"
   ]
  },
  {
   "cell_type": "code",
   "execution_count": null,
   "id": "67f786b4",
   "metadata": {},
   "outputs": [],
   "source": [
    "census_filtered['center'] = census_filtered.geometry.centroid"
   ]
  },
  {
   "cell_type": "code",
   "execution_count": null,
   "id": "a2806b00",
   "metadata": {},
   "outputs": [],
   "source": [
    "census_filtered.dtypes"
   ]
  },
  {
   "cell_type": "code",
   "execution_count": null,
   "id": "dd55f5be",
   "metadata": {},
   "outputs": [],
   "source": [
    "tract_center = census_filtered.drop(['geometry'], axis=1)\n",
    "tract_center = tract_center.rename(columns = {'center':'geometry'})\n",
    "tract_center"
   ]
  },
  {
   "cell_type": "code",
   "execution_count": null,
   "id": "b202e7b2",
   "metadata": {},
   "outputs": [],
   "source": [
    "tract_center.plot()"
   ]
  },
  {
   "cell_type": "code",
   "execution_count": null,
   "id": "5db15e33",
   "metadata": {},
   "outputs": [],
   "source": [
    "joint_tract = gpd.sjoin(tract_center, police_precinct_map, op= 'within')"
   ]
  },
  {
   "cell_type": "code",
   "execution_count": null,
   "id": "ee7675d7",
   "metadata": {},
   "outputs": [],
   "source": [
    "ax = police_precinct_map.plot(edgecolor = \"black\", figsize = (8,8), cmap = \"Set3\")\n",
    "joint_tract.plot(ax = ax, edgecolor = \"white\")"
   ]
  },
  {
   "cell_type": "code",
   "execution_count": null,
   "id": "30e63c70",
   "metadata": {},
   "outputs": [],
   "source": [
    "joint_tract.info()"
   ]
  },
  {
   "cell_type": "code",
   "execution_count": null,
   "id": "a03f571e",
   "metadata": {},
   "outputs": [],
   "source": []
  }
 ],
 "metadata": {
  "kernelspec": {
   "display_name": "Python 3 (ipykernel)",
   "language": "python",
   "name": "python3"
  },
  "language_info": {
   "codemirror_mode": {
    "name": "ipython",
    "version": 3
   },
   "file_extension": ".py",
   "mimetype": "text/x-python",
   "name": "python",
   "nbconvert_exporter": "python",
   "pygments_lexer": "ipython3",
   "version": "3.9.7"
  }
 },
 "nbformat": 4,
 "nbformat_minor": 5
}
