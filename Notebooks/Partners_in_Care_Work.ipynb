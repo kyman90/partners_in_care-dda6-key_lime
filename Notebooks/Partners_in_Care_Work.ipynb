{
 "cells": [
  {
   "cell_type": "code",
   "execution_count": null,
   "id": "e71301b9",
   "metadata": {},
   "outputs": [],
   "source": [
    "import pandas as pd\n",
    "import matplotlib.pyplot as plt\n",
    "import seaborn as sns\n",
    "import sqlite3 as sql"
   ]
  },
  {
   "cell_type": "code",
   "execution_count": null,
   "id": "79b09262",
   "metadata": {},
   "outputs": [],
   "source": [
    "%matplotlib inline"
   ]
  },
  {
   "cell_type": "code",
   "execution_count": null,
   "id": "377b6932",
   "metadata": {},
   "outputs": [],
   "source": [
    "geocodeclean = pd.read_csv('../data/geocodeclean.csv')\n",
    "geocodeclean"
   ]
  },
  {
   "cell_type": "code",
   "execution_count": null,
   "id": "0b97f65d",
   "metadata": {},
   "outputs": [],
   "source": [
    "chartsclean = pd.read_csv('../data/charts_clean.csv')\n",
    "chartsclean"
   ]
  },
  {
   "cell_type": "code",
   "execution_count": null,
   "id": "55da02bf",
   "metadata": {},
   "outputs": [],
   "source": [
    "callsclean = pd.read_csv('../data/calls_clean.csv')\n",
    "callsclean"
   ]
  },
  {
   "cell_type": "markdown",
   "id": "ef02710c",
   "metadata": {},
   "source": [
    "# merge callsclean and geocodetotal"
   ]
  },
  {
   "cell_type": "code",
   "execution_count": null,
   "id": "6ab2b6b7",
   "metadata": {},
   "outputs": [],
   "source": [
    "geocalls = callsclean.merge(geocodeclean, how = 'outer', left_on = 'Address', right_on = 'address')\n",
    "geocalls"
   ]
  },
  {
   "cell_type": "markdown",
   "id": "158d44b7",
   "metadata": {},
   "source": [
    "# combine priority calls into 1,2,3 only"
   ]
  },
  {
   "cell_type": "code",
   "execution_count": null,
   "id": "b8fb9d30",
   "metadata": {},
   "outputs": [],
   "source": [
    "chartsclean['Priority_2'] = chartsclean['Priority_2'] + chartsclean['Priority_2L'] + chartsclean['Priority_2M'] + chartsclean['Priority_2N'] + chartsclean['Priority_2T'] + chartsclean['Priority_2R']\n"
   ]
  },
  {
   "cell_type": "code",
   "execution_count": null,
   "id": "e91de619",
   "metadata": {},
   "outputs": [],
   "source": [
    "chartsclean['Priority_3'] = chartsclean['Priority_3'] + chartsclean['Priority_3H'] + chartsclean['Priority_3M'] + chartsclean['Priority_3Q']"
   ]
  },
  {
   "cell_type": "code",
   "execution_count": null,
   "id": "7921d97c",
   "metadata": {},
   "outputs": [],
   "source": [
    "chartsclean = chartsclean.drop(columns = ['Priority_2L', 'Priority_2M', 'Priority_2N', 'Priority_2T', 'Priority_2R', 'Priority_3H', 'Priority_3M', 'Priority_3Q'])"
   ]
  },
  {
   "cell_type": "code",
   "execution_count": null,
   "id": "411c1fa5",
   "metadata": {
    "scrolled": true
   },
   "outputs": [],
   "source": [
    "chartsclean"
   ]
  },
  {
   "cell_type": "markdown",
   "id": "edcace79",
   "metadata": {},
   "source": [
    "# look at # of calls per 12hr shift, then graph"
   ]
  },
  {
   "cell_type": "code",
   "execution_count": null,
   "id": "1d09a54b",
   "metadata": {},
   "outputs": [],
   "source": [
    "#concate Created and Date\n",
    "#change into Date time\n",
    "#group data into \"bins\" per shift"
   ]
  },
  {
   "cell_type": "code",
   "execution_count": null,
   "id": "614379c4",
   "metadata": {},
   "outputs": [],
   "source": [
    "geocalls    "
   ]
  },
  {
   "cell_type": "code",
   "execution_count": null,
   "id": "03266693",
   "metadata": {},
   "outputs": [],
   "source": [
    "geocalls['newdate'] = geocalls['Date'] + ' ' + geocalls['Created']\n",
    "geocalls['newdate']"
   ]
  },
  {
   "cell_type": "code",
   "execution_count": null,
   "id": "e8606259",
   "metadata": {},
   "outputs": [],
   "source": [
    "geocalls['newdate'] = pd.to_datetime(geocalls['newdate'])"
   ]
  },
  {
   "cell_type": "code",
   "execution_count": null,
   "id": "ec639de3",
   "metadata": {},
   "outputs": [],
   "source": [
    "geocalls1 = geocalls.drop(columns = ['Date', 'Created'])\n",
    "geocalls1"
   ]
  },
  {
   "cell_type": "code",
   "execution_count": null,
   "id": "a5ba3142",
   "metadata": {},
   "outputs": [],
   "source": [
    "#extract hr from newdate"
   ]
  },
  {
   "cell_type": "code",
   "execution_count": null,
   "id": "d671ebb0",
   "metadata": {},
   "outputs": [],
   "source": [
    "geocalls1['hours'] = geocalls1['newdate'].dt.hour\n",
    "geocalls1"
   ]
  },
  {
   "cell_type": "code",
   "execution_count": null,
   "id": "0a35d1b3",
   "metadata": {},
   "outputs": [],
   "source": [
    "geocalls1.info()"
   ]
  },
  {
   "cell_type": "code",
   "execution_count": null,
   "id": "075fcef5",
   "metadata": {
    "scrolled": true
   },
   "outputs": [],
   "source": [
    "geocalls1.value_counts('hours').sort_index()"
   ]
  },
  {
   "cell_type": "code",
   "execution_count": null,
   "id": "c57992ab",
   "metadata": {},
   "outputs": [],
   "source": [
    "# create lists for each shift category\n",
    "\n",
    "Shift0 = ((geocalls1['hours'] >= 0) & (geocalls1['hours'] < 12))\n",
    "Shift1 = ((geocalls1['hours'] >= 1) & (geocalls1['hours'] < 13))\n",
    "Shift2 = ((geocalls1['hours'] >= 2) & (geocalls1['hours'] < 14))\n",
    "Shift3 = ((geocalls1['hours'] >= 3) & (geocalls1['hours'] < 15))\n",
    "Shift4 = ((geocalls1['hours'] >= 4) & (geocalls1['hours'] < 16))\n",
    "Shift5 = ((geocalls1['hours'] >= 5) & (geocalls1['hours'] < 17))\n",
    "Shift6 = ((geocalls1['hours'] >= 6) & (geocalls1['hours'] < 18))\n",
    "Shift7 = ((geocalls1['hours'] >= 7) & (geocalls1['hours'] < 19))\n",
    "Shift8 = ((geocalls1['hours'] >= 8) & (geocalls1['hours'] < 20))\n",
    "Shift9 = ((geocalls1['hours'] >= 9) & (geocalls1['hours'] < 21))\n",
    "Shift10 = ((geocalls1['hours'] >= 10) & (geocalls1['hours'] < 22))\n",
    "Shift11 = ((geocalls1['hours'] >= 11) & (geocalls1['hours'] < 23))\n",
    "Shift12 = (geocalls1['hours'] >= 12)\n",
    "Shift13 = ((geocalls1['hours'] >= 13) | (geocalls1['hours'] <1))\n",
    "Shift14 = ((geocalls1['hours'] >= 14) | (geocalls1['hours'] <2))\n",
    "Shift15 = (geocalls1['hours'] >= 15) | (geocalls1['hours'] <3)\n",
    "Shift16 = (geocalls1['hours'] >= 16) | (geocalls1['hours'] <4)\n",
    "Shift17 = (geocalls1['hours'] >= 17) | (geocalls1['hours'] <5)\n",
    "Shift18 = (geocalls1['hours'] >= 18) | (geocalls1['hours'] <6)\n",
    "Shift19 = (geocalls1['hours'] >= 19) | (geocalls1['hours'] <7)\n",
    "Shift20 = (geocalls1['hours'] >= 20) | (geocalls1['hours'] <8)\n",
    "Shift21 = (geocalls1['hours'] >= 21) | (geocalls1['hours'] <9)\n",
    "Shift22 = (geocalls1['hours'] >= 22) | (geocalls1['hours'] <10)\n",
    "Shift23 = (geocalls1['hours'] >= 23) | (geocalls1['hours'] <11)\n"
   ]
  },
  {
   "cell_type": "code",
   "execution_count": null,
   "id": "c6d68712",
   "metadata": {
    "scrolled": true
   },
   "outputs": [],
   "source": [
    "calls_shift0 = sum(Shift0)\n",
    "calls_shift1 = sum(Shift1)\n",
    "calls_shift2 = sum(Shift2)\n",
    "calls_shift3 = sum(Shift3)\n",
    "calls_shift4 = sum(Shift4)\n",
    "calls_shift5 = sum(Shift5)\n",
    "calls_shift6 = sum(Shift6)\n",
    "calls_shift7 = sum(Shift7)\n",
    "calls_shift8 = sum(Shift8)\n",
    "calls_shift9 = sum(Shift9)\n",
    "calls_shift10 = sum(Shift10)\n",
    "calls_shift11 = sum(Shift11)\n",
    "calls_shift12 = sum(Shift12)\n",
    "calls_shift13 = sum(Shift13)\n",
    "calls_shift14 = sum(Shift14)\n",
    "calls_shift15 = sum(Shift15)\n",
    "calls_shift16 = sum(Shift16)\n",
    "calls_shift17 = sum(Shift17)\n",
    "calls_shift18 = sum(Shift18)\n",
    "calls_shift19 = sum(Shift19)\n",
    "calls_shift20 = sum(Shift20)\n",
    "calls_shift21 = sum(Shift21)\n",
    "calls_shift22 = sum(Shift22)\n",
    "calls_shift23 = sum(Shift23)\n",
    "\n",
    "\n",
    "print(calls_shift0)\n",
    "print(calls_shift1)\n",
    "print(calls_shift2)\n",
    "print(calls_shift3)\n",
    "print(calls_shift4)\n",
    "print(calls_shift5)\n",
    "print(calls_shift6)\n",
    "print(calls_shift7)\n",
    "print(calls_shift8)\n",
    "print(calls_shift9)\n",
    "print(calls_shift10)\n",
    "print(calls_shift11)\n",
    "print(calls_shift12)\n",
    "print(calls_shift13)\n",
    "print(calls_shift14)\n",
    "print(calls_shift15)\n",
    "print(calls_shift16)\n",
    "print(calls_shift17)\n",
    "print(calls_shift18)\n",
    "print(calls_shift19)\n",
    "print(calls_shift20)\n",
    "print(calls_shift21)\n",
    "print(calls_shift22)\n",
    "print(calls_shift23)\n"
   ]
  },
  {
   "cell_type": "code",
   "execution_count": null,
   "id": "b36dcbe6",
   "metadata": {},
   "outputs": [],
   "source": [
    "shift = ['Shift0', 'Shift1', 'Shift2', 'Shift3', 'Shift4', 'Shift5', 'Shift6', 'Shift7', 'Shift8', 'Shift9', 'Shift10', 'Shift11', 'Shift12', 'Shift13', 'Shift14', 'Shift15', 'Shift16', 'Shift17', 'Shift18', 'Shift19', 'Shift20', 'Shift21', 'Shift22', 'Shift23']\n",
    "calls = [17425, 17840, 18730, 19973, 21696, 23581, 25492, 27316, 28605, 29632, 30395, 30650, 30501, 30086, 29196, 27953, 26230, 24345, 22434, 20610, 19321, 18294,  17531, 17276]"
   ]
  },
  {
   "cell_type": "code",
   "execution_count": null,
   "id": "622e9a63",
   "metadata": {},
   "outputs": [],
   "source": [
    "d = {'Shift' : shift, 'Calls': calls}"
   ]
  },
  {
   "cell_type": "code",
   "execution_count": null,
   "id": "e2ecb335",
   "metadata": {},
   "outputs": [],
   "source": [
    "shiftcalls = pd.DataFrame(d)\n",
    "shiftcalls"
   ]
  },
  {
   "cell_type": "code",
   "execution_count": null,
   "id": "64d67bd6",
   "metadata": {},
   "outputs": [],
   "source": [
    "\n",
    "shiftcalls.plot(kind = 'bar', figsize = (10,6), color = 'slategray', edgecolor = 'black', legend = False)\n",
    "plt.xticks(rotation = 0)\n"
   ]
  },
  {
   "cell_type": "code",
   "execution_count": null,
   "id": "73caf92a",
   "metadata": {},
   "outputs": [],
   "source": [
    "#SUM each shift"
   ]
  },
  {
   "cell_type": "markdown",
   "id": "56086f16",
   "metadata": {},
   "source": [
    "# Remove Precincts(CDW, CW, PCW, CMD1, CMD2)"
   ]
  },
  {
   "cell_type": "code",
   "execution_count": null,
   "id": "b1458401",
   "metadata": {},
   "outputs": [],
   "source": [
    "prehours = geocalls1.groupby(['Precinct', 'hours'])['hours'].count().to_frame('calls').reset_index(level=1)\n",
    "prehours = prehours.reset_index(level=0)\n",
    "prehours"
   ]
  },
  {
   "cell_type": "code",
   "execution_count": null,
   "id": "556f2b7c",
   "metadata": {},
   "outputs": [],
   "source": [
    "filter = ['CDW', 'CW', 'PCW', 'CMD1', 'CMD2']\n",
    "mask = (prehours['Precinct'] != filter)"
   ]
  },
  {
   "cell_type": "code",
   "execution_count": null,
   "id": "11a2ae18",
   "metadata": {},
   "outputs": [],
   "source": [
    "filteredhours = prehours[mask]\n",
    "filteredhours"
   ]
  },
  {
   "cell_type": "code",
   "execution_count": null,
   "id": "cd9c8c6c",
   "metadata": {},
   "outputs": [],
   "source": [
    "prehoursFG = sns.FacetGrid(prehours, col = 'Precinct', hue = 'Precinct', height=5, aspect=1)\n",
    "prehoursFG.map(sns.scatterplot, 'hours', 'calls')\n",
    "prehoursFG.add_legend()"
   ]
  },
  {
   "cell_type": "code",
   "execution_count": null,
   "id": "4277f2a0",
   "metadata": {},
   "outputs": [],
   "source": [
    "sns.relplot(data = prehours,\n",
    "           x = 'hours',\n",
    "           y = 'calls',\n",
    "           hue = 'Precinct',\n",
    "           kind = 'line')"
   ]
  },
  {
   "cell_type": "code",
   "execution_count": null,
   "id": "21553f67",
   "metadata": {},
   "outputs": [],
   "source": [
    "prehoursFG = sns.FacetGrid(prehours, hue='Precinct', height=5, aspect=1)\n",
    "prehoursFG.map(plt.plot, 'hours', 'calls', color='k', marker='x')\n",
    "plt.show()"
   ]
  },
  {
   "cell_type": "code",
   "execution_count": null,
   "id": "cbcf8a2c",
   "metadata": {},
   "outputs": [],
   "source": [
    "plt.figure(figsize = (10,8))\n",
    "prehoursFG = sns.lineplot(x='hours', y='calls',\n",
    "                          hue='Precinct',\n",
    "                          palette='bright',\n",
    "                        data=prehours)\n",
    "prehoursFG.legend(loc='upper right', bbox_to_anchor=(1.15, 1))\n"
   ]
  },
  {
   "cell_type": "markdown",
   "id": "b9e7830e",
   "metadata": {},
   "source": [
    "# Bring in Census Data via Sqlite"
   ]
  },
  {
   "cell_type": "code",
   "execution_count": null,
   "id": "89554f27",
   "metadata": {},
   "outputs": [],
   "source": [
    "conn = sql.connect('../data/census.sqlite')\n",
    "cur = conn.cursor()"
   ]
  },
  {
   "cell_type": "code",
   "execution_count": null,
   "id": "c3070fd2",
   "metadata": {},
   "outputs": [],
   "source": [
    "cur.execute(\"SELECT name FROM sqlite_master WHERE type='table' ORDER BY name;\")\n",
    "available_tables = (cur.fetchall())"
   ]
  },
  {
   "cell_type": "code",
   "execution_count": null,
   "id": "84319a99",
   "metadata": {},
   "outputs": [],
   "source": [
    "print(available_tables)"
   ]
  },
  {
   "cell_type": "markdown",
   "id": "ba5a90de",
   "metadata": {},
   "source": [
    "# Querying the Poverty table"
   ]
  },
  {
   "cell_type": "code",
   "execution_count": null,
   "id": "7067e4de",
   "metadata": {},
   "outputs": [],
   "source": [
    "cur.execute(\"SELECT * FROM B03002\")\n",
    "\n",
    "Race = (cur.fetchall())"
   ]
  },
  {
   "cell_type": "code",
   "execution_count": null,
   "id": "88054a0f",
   "metadata": {},
   "outputs": [],
   "source": [
    "type(Race)"
   ]
  },
  {
   "cell_type": "code",
   "execution_count": null,
   "id": "cfcb291d",
   "metadata": {},
   "outputs": [],
   "source": [
    "Race"
   ]
  },
  {
   "cell_type": "code",
   "execution_count": null,
   "id": "bbe54447",
   "metadata": {},
   "outputs": [],
   "source": [
    "racedf = pd.read_sql(\"SELECT * FROM B03002;\", conn)\n",
    "racedf"
   ]
  },
  {
   "cell_type": "code",
   "execution_count": null,
   "id": "aaaa8abd",
   "metadata": {},
   "outputs": [],
   "source": [
    "type(racedf)"
   ]
  },
  {
   "cell_type": "code",
   "execution_count": null,
   "id": "a4e9a900",
   "metadata": {},
   "outputs": [],
   "source": [
    "racedf['description'].count()"
   ]
  },
  {
   "cell_type": "code",
   "execution_count": null,
   "id": "792a5ffa",
   "metadata": {},
   "outputs": [],
   "source": []
  }
 ],
 "metadata": {
  "kernelspec": {
   "display_name": "Python 3 (ipykernel)",
   "language": "python",
   "name": "python3"
  },
  "language_info": {
   "codemirror_mode": {
    "name": "ipython",
    "version": 3
   },
   "file_extension": ".py",
   "mimetype": "text/x-python",
   "name": "python",
   "nbconvert_exporter": "python",
   "pygments_lexer": "ipython3",
   "version": "3.9.7"
  }
 },
 "nbformat": 4,
 "nbformat_minor": 5
}
