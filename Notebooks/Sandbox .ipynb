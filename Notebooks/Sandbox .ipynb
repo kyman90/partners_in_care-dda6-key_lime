{
 "cells": [
  {
   "cell_type": "code",
   "execution_count": null,
   "id": "e71301b9",
   "metadata": {},
   "outputs": [],
   "source": [
    "import pandas as pd\n",
    "import matplotlib.pyplot as plt\n",
    "import seaborn as sns"
   ]
  },
  {
   "cell_type": "code",
   "execution_count": null,
   "id": "377b6932",
   "metadata": {},
   "outputs": [],
   "source": [
    "geocodeclean = pd.read_csv('../data/geocodeclean.csv')\n",
    "geocodeclean"
   ]
  },
  {
   "cell_type": "code",
   "execution_count": null,
   "id": "0b97f65d",
   "metadata": {},
   "outputs": [],
   "source": [
    "chartsclean = pd.read_csv('../data/charts_clean.csv')\n",
    "chartsclean"
   ]
  },
  {
   "cell_type": "code",
   "execution_count": null,
   "id": "55da02bf",
   "metadata": {},
   "outputs": [],
   "source": [
    "callsclean = pd.read_csv('../data/calls_clean.csv')\n",
    "callsclean"
   ]
  },
  {
   "cell_type": "markdown",
   "id": "ef02710c",
   "metadata": {},
   "source": [
    "# merge callsclean and geocodetotal"
   ]
  },
  {
   "cell_type": "code",
   "execution_count": null,
   "id": "6ab2b6b7",
   "metadata": {},
   "outputs": [],
   "source": [
    "geocalls = callsclean.merge(geocodeclean, how = 'outer', left_on = 'Address', right_on = 'address')\n",
    "geocalls"
   ]
  },
  {
   "cell_type": "markdown",
   "id": "158d44b7",
   "metadata": {},
   "source": [
    "# combine priority calls into 1,2,3 only"
   ]
  },
  {
   "cell_type": "code",
   "execution_count": null,
   "id": "b8fb9d30",
   "metadata": {},
   "outputs": [],
   "source": [
    "chartsclean['Priority_2'] = chartsclean['Priority_2'] + chartsclean['Priority_2L'] + chartsclean['Priority_2M'] + chartsclean['Priority_2N'] + chartsclean['Priority_2T'] + chartsclean['Priority_2R']\n"
   ]
  },
  {
   "cell_type": "code",
   "execution_count": null,
   "id": "e91de619",
   "metadata": {},
   "outputs": [],
   "source": [
    "chartsclean['Priority_3'] = chartsclean['Priority_3'] + chartsclean['Priority_3H'] + chartsclean['Priority_3M'] + chartsclean['Priority_3Q']"
   ]
  },
  {
   "cell_type": "code",
   "execution_count": null,
   "id": "7921d97c",
   "metadata": {},
   "outputs": [],
   "source": [
    "chartsclean = chartsclean.drop(columns = ['Priority_2L', 'Priority_2M', 'Priority_2N', 'Priority_2T', 'Priority_2R', 'Priority_3H', 'Priority_3M', 'Priority_3Q'])"
   ]
  },
  {
   "cell_type": "code",
   "execution_count": null,
   "id": "411c1fa5",
   "metadata": {
    "scrolled": true
   },
   "outputs": [],
   "source": [
    "chartsclean"
   ]
  },
  {
   "cell_type": "markdown",
   "id": "edcace79",
   "metadata": {},
   "source": [
    "# look at # of calls per 12hr shift, then graph"
   ]
  },
  {
   "cell_type": "code",
   "execution_count": null,
   "id": "1d09a54b",
   "metadata": {},
   "outputs": [],
   "source": [
    "#concate Created and Date\n",
    "#change into Date time\n",
    "#group data into \"bins\" per shift"
   ]
  },
  {
   "cell_type": "code",
   "execution_count": null,
   "id": "614379c4",
   "metadata": {},
   "outputs": [],
   "source": [
    "geocalls    "
   ]
  },
  {
   "cell_type": "code",
   "execution_count": null,
   "id": "03266693",
   "metadata": {},
   "outputs": [],
   "source": [
    "geocalls['newdate'] = geocalls['Date'] + ' ' + geocalls['Created']\n",
    "geocalls['newdate']"
   ]
  },
  {
   "cell_type": "code",
   "execution_count": null,
   "id": "e8606259",
   "metadata": {},
   "outputs": [],
   "source": [
    "geocalls['newdate'] = pd.to_datetime(geocalls['newdate'])"
   ]
  },
  {
   "cell_type": "code",
   "execution_count": null,
   "id": "ec639de3",
   "metadata": {},
   "outputs": [],
   "source": [
    "geocalls1 = geocalls.drop(columns = ['Date', 'Created'])\n",
    "geocalls1"
   ]
  },
  {
   "cell_type": "code",
   "execution_count": null,
   "id": "a5ba3142",
   "metadata": {},
   "outputs": [],
   "source": [
    "#extract hr from newdate"
   ]
  },
  {
   "cell_type": "code",
   "execution_count": null,
   "id": "d671ebb0",
   "metadata": {},
   "outputs": [],
   "source": [
    "geocalls1['hours'] = geocalls1['newdate'].dt.hour\n",
    "geocalls1"
   ]
  },
  {
   "cell_type": "code",
   "execution_count": null,
   "id": "0a35d1b3",
   "metadata": {},
   "outputs": [],
   "source": [
    "geocalls1.info()"
   ]
  },
  {
   "cell_type": "code",
   "execution_count": null,
   "id": "075fcef5",
   "metadata": {},
   "outputs": [],
   "source": [
    "geocalls1.value_counts('hours').sort_index()"
   ]
  },
  {
   "cell_type": "code",
   "execution_count": null,
   "id": "727e4e23",
   "metadata": {},
   "outputs": [],
   "source": [
    "#use function to create categories"
   ]
  },
  {
   "cell_type": "markdown",
   "id": "5ea7e06b",
   "metadata": {},
   "source": [
    "#incorrect\n",
    "def myFunc(i):\n",
    "    if (i['hours'] >= 1 & i['hours'] <13):\n",
    "        return '1'\n",
    "    elif (i['hours'] >= 2 & i['hours'] <14):\n",
    "        return '2'\n",
    "    elif (i['hours'] >= 3 & i['hours'] <15):\n",
    "        return '3'\n",
    "    elif (i['hours'] >= 4 & i['hours'] <16):\n",
    "        return '4'\n",
    "    elif (i['hours'] >= 5 & i['hours'] <17):\n",
    "        return '5'\n",
    "    elif (i['hours'] >= 6 & i['hours'] <18):\n",
    "        return '6'\n",
    "    elif (i['hours'] >= 7 & i['hours'] <19):\n",
    "        return '7'\n",
    "    elif (i['hours'] >= 8 & i['hours'] <20):\n",
    "        return '8'\n",
    "    elif (i['hours'] >= 9 & i['hours'] <21):\n",
    "        return '9'\n",
    "    elif (i['hours'] >= 10 & i['hours'] <22):\n",
    "        return '10'\n",
    "    elif (i['hours'] >= 11 & i['hours'] <23):\n",
    "        return '11'\n",
    "    else:\n",
    "        return '12'\n",
    "    \n",
    "geocalls1['Shifts'] = geocalls1.apply(myFunc, axis=1)\n",
    "geocalls1.head()"
   ]
  },
  {
   "cell_type": "markdown",
   "id": "0222ca79",
   "metadata": {},
   "source": [
    "def myFunc2(x):\n",
    "    if ((x >= 1) & (x <13)):\n",
    "        return 'Shift1'\n",
    "    if ((x >= 2) & (x <14)):\n",
    "        return 'Shift2'\n",
    "    if ((x >= 3) & (x <15)):\n",
    "        return 'Shift3'\n",
    "    if ((x >= 4) & (x <16)):\n",
    "        return 'Shift4'\n",
    "    if ((x >= 5) & (x <17)):\n",
    "        return 'Shift5'\n",
    "    if ((x >= 6) & (x <18)):\n",
    "        return 'Shift6'\n",
    "    if ((x >= 7) & (x <19)):\n",
    "        return 'Shift7'\n",
    "    if ((x >= 8) & (x <20)):\n",
    "        return 'Shift8'\n",
    "    if ((x >= 9) & (x <21)):\n",
    "        return 'Shift9'\n",
    "    if ((x >= 10) & (x <22)):\n",
    "        return 'Shift10'\n",
    "    if ((x >= 11) & (x <23)):\n",
    "        return 'Shift11'\n",
    "    if ((x >= 12) & (x < 0)):\n",
    "        return 'Shift12'\n",
    "    \n",
    "geocalls1['Shifts'] = geocalls1['hours'].apply(myFunc2)\n",
    "geocalls1.head(50)"
   ]
  },
  {
   "cell_type": "code",
   "execution_count": null,
   "id": "5e370722",
   "metadata": {},
   "outputs": [],
   "source": [
    "geocalls1.value_counts('Shifts')"
   ]
  },
  {
   "cell_type": "markdown",
   "id": "6529cecf",
   "metadata": {},
   "source": [
    "#turn defined function into for loop"
   ]
  },
  {
   "cell_type": "markdown",
   "id": "472fd985",
   "metadata": {},
   "source": [
    "for index, row in geocalls1.iterrows():\n",
    "    if ((row.hours >= 1) & (row.hours <13)):\n",
    "        geocalls1.loc[index, 'Shifts'] = geocalls1.loc[index, 'Shifts_1']\n",
    "    elif ((row.hours >= 2) & (row.hours <14)):\n",
    "        geocalls1.loc[index, 'Shifts'] = geocalls1.loc[index, 'Shift_2']\n",
    "    elif ((row.hours >= 3) & (row.hours <15)):\n",
    "        geocalls1.loc[index, 'Shifts'] = geocalls1.loc[index, 'Shift_3']\n",
    "    elif ((row.hours >= 4) & (row.hours <16)):\n",
    "        geocalls1.loc[index, 'Shifts'] = geocalls1.loc[index, 'Shift_4']\n",
    "    elif ((row.hours >= 5) & (row.hours <17)):\n",
    "        geocalls1.loc[index, 'Shifts'] = geocalls1.loc[index, 'Shift_5']\n",
    "    elif ((row.hours >= 6) & (row.hours <18)):\n",
    "        geocalls1.loc[index, 'Shifts'] = geocalls1.loc[index, 'Shift_6']\n",
    "    elif ((row.hours >= 7) & (row.hours <19)):\n",
    "        geocalls1.loc[index, 'Shifts'] = geocalls1.loc[index, 'Shift_7']\n",
    "    elif ((row.hours >= 8) & (row.hours <20)):\n",
    "        geocalls1.loc[index, 'Shifts'] = geocalls1.loc[index, 'Shift_8']\n",
    "    elif ((row.hours >= 9) & (row.hours <21)):\n",
    "        geocalls1.loc[index, 'Shifts'] = geocalls1.loc[index, 'Shift_9']\n",
    "    elif ((row.hours >= 10) & (row.hours <22)):\n",
    "        geocalls1.loc[index, 'Shifts'] = geocalls1.loc[index, 'Shift_10']\n",
    "    elif ((row.hours >= 11) & (row.hours <23)):\n",
    "        geocalls1.loc[index, 'Shifts'] = geocalls1.loc[index, 'Shift_11']\n",
    "    elif ((row.hours >=12) & (row.hours <0)):\n",
    "        geocalls1.loc[index, 'Shifts'] = geocalls1.loc[index, 'Shift_12']\n",
    "    else:\n",
    "        schools.loc[index, 'Shifts'] = -1\n",
    "    \n",
    "geocalls.head()"
   ]
  },
  {
   "cell_type": "markdown",
   "id": "0f95a21b",
   "metadata": {},
   "source": [
    "shifts = {'shift1: range() '}\n",
    "for index, row in geocalls1.iterrows():\n",
    "    if ((row.hours >= 0) & (row.hours <12)):\n",
    "        geocalls1.loc[index, 'Shifts'] = geocalls1.loc[index, 'Shift_0']\n",
    "    if ((row.hours >= 1) & (row.hours <13)):\n",
    "        geocalls1.loc[index, 'Shifts'] = geocalls1.loc[index, 'Shift_1']\n",
    "    elif ((row.hours >= 2) & (row.hours <14)):\n",
    "        geocalls1.loc[index, 'Shifts'] = geocalls1.loc[index, 'Shift_2']\n",
    "    elif ((row.hours >= 3) & (row.hours <15)):\n",
    "        geocalls1.loc[index, 'Shifts'] = geocalls1.loc[index, 'Shift_3']\n",
    "    elif ((row.hours >= 4) & (row.hours <16)):\n",
    "        geocalls1.loc[index, 'Shifts'] = geocalls1.loc[index, 'Shift_4']\n",
    "    elif ((row.hours >= 5) & (row.hours <17)):\n",
    "        geocalls1.loc[index, 'Shifts'] = geocalls1.loc[index, 'Shift_5']\n",
    "    elif ((row.hours >= 6) & (row.hours <18)):\n",
    "        geocalls1.loc[index, 'Shifts'] = geocalls1.loc[index, 'Shift_6']\n",
    "    elif ((row.hours >= 7) & (row.hours <19)):\n",
    "        geocalls1.loc[index, 'Shifts'] = geocalls1.loc[index, 'Shift_7']\n",
    "    elif ((row.hours >= 8) & (row.hours <20)):\n",
    "        geocalls1.loc[index, 'Shifts'] = geocalls1.loc[index, 'Shift_8']\n",
    "    elif ((row.hours >= 9) & (row.hours <21)):\n",
    "        geocalls1.loc[index, 'Shifts'] = geocalls1.loc[index, 'Shift_9']\n",
    "    elif ((row.hours >= 10) & (row.hours <22)):\n",
    "        geocalls1.loc[index, 'Shifts'] = geocalls1.loc[index, 'Shift_10']\n",
    "    elif ((row.hours >= 11) & (row.hours <23)):\n",
    "        geocalls1.loc[index, 'Shifts'] = geocalls1.loc[index, 'Shift_11']\n",
    "    elif ((row.hours >=12) & (row.hours <0)):\n",
    "        geocalls1.loc[index, 'Shifts'] = geocalls1.loc[index, 'Shift_12']\n",
    "    else:\n",
    "        schools.loc[index, 'Shifts'] = -1\n",
    "    \n",
    "geocalls.head()"
   ]
  },
  {
   "cell_type": "code",
   "execution_count": null,
   "id": "d80d54b5",
   "metadata": {},
   "outputs": [],
   "source": [
    "dic = {range(0, 12): 'Shift_1'}\n"
   ]
  },
  {
   "cell_type": "code",
   "execution_count": null,
   "id": "55c3a5e1",
   "metadata": {},
   "outputs": [],
   "source": [
    "geocalls1.value_counts('Shifts')"
   ]
  },
  {
   "cell_type": "code",
   "execution_count": null,
   "id": "2540fc55",
   "metadata": {},
   "outputs": [],
   "source": [
    "#groupby shifts, count incident type"
   ]
  },
  {
   "cell_type": "code",
   "execution_count": null,
   "id": "75f529d1",
   "metadata": {},
   "outputs": [],
   "source": [
    "geocalls1['Shifts'] = geocalls1['Shifts'].astype(int)"
   ]
  },
  {
   "cell_type": "code",
   "execution_count": null,
   "id": "23f1dbb5",
   "metadata": {},
   "outputs": [],
   "source": [
    "geocalls1.groupby('Shifts').count()"
   ]
  },
  {
   "cell_type": "code",
   "execution_count": null,
   "id": "dcd0cd5e",
   "metadata": {},
   "outputs": [],
   "source": [
    "geocalls1['Shifts'].count()"
   ]
  },
  {
   "cell_type": "code",
   "execution_count": null,
   "id": "3e244ecd",
   "metadata": {},
   "outputs": [],
   "source": [
    "pd.crosstab(geocalls1['Shifts'], geocalls1['Incident Type'])"
   ]
  },
  {
   "cell_type": "code",
   "execution_count": null,
   "id": "182576ac",
   "metadata": {},
   "outputs": [],
   "source": [
    "(pd.crosstab(geocalls1['Shifts'], geocalls1['Incident Type'], normalize = 'index') * 100).plot(kind = 'bar',\n",
    "                                                                                              stacked = True,\n",
    "                                                                                              edgecolor = 'black',\n",
    "                                                                                              figsize = (10,6))\n",
    "plt.title('Call Type By Shift')\n",
    "plt.xticks(rotation = 0)\n",
    "plt.legend(bbox_to_anchor = (1, 0.8), loc = 'upper left')"
   ]
  },
  {
   "cell_type": "code",
   "execution_count": null,
   "id": "72322594",
   "metadata": {},
   "outputs": [],
   "source": [
    "groupshift = geocalls1.groupby('Shifts')['Incident Type'].count()\n",
    "groupshift"
   ]
  },
  {
   "cell_type": "code",
   "execution_count": null,
   "id": "77073d9a",
   "metadata": {},
   "outputs": [],
   "source": [
    "groupshift = pd.DataFrame(data = groupshift)\n",
    "groupshift"
   ]
  },
  {
   "cell_type": "code",
   "execution_count": null,
   "id": "a1b1749e",
   "metadata": {},
   "outputs": [],
   "source": [
    "groupshift.plot(kind = 'bar',\n",
    "               figsize = (10,6))\n",
    "\n",
    "plt.xticks(rotation = 0,\n",
    "          fontsize = 12)"
   ]
  },
  {
   "cell_type": "code",
   "execution_count": null,
   "id": "5682c5d3",
   "metadata": {},
   "outputs": [],
   "source": []
  }
 ],
 "metadata": {
  "kernelspec": {
   "display_name": "Python 3 (ipykernel)",
   "language": "python",
   "name": "python3"
  },
  "language_info": {
   "codemirror_mode": {
    "name": "ipython",
    "version": 3
   },
   "file_extension": ".py",
   "mimetype": "text/x-python",
   "name": "python",
   "nbconvert_exporter": "python",
   "pygments_lexer": "ipython3",
   "version": "3.9.7"
  }
 },
 "nbformat": 4,
 "nbformat_minor": 5
}
